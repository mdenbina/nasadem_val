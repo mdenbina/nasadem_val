{
 "cells": [
  {
   "cell_type": "code",
   "execution_count": 3,
   "metadata": {},
   "outputs": [],
   "source": [
    "# %load_ext autoreload\n",
    "# %autoreload 2"
   ]
  },
  {
   "cell_type": "code",
   "execution_count": 22,
   "metadata": {},
   "outputs": [],
   "source": [
    " \n",
    "import geopandas as gpd\n",
    "import numpy as np\n",
    "import matplotlib.pyplot as plt\n",
    "import requests\n",
    "import h5py\n",
    "from pathlib import Path\n",
    "import concurrent.futures\n",
    "from tqdm import tqdm\n",
    "from json import JSONDecodeError\n",
    "from dotenv import load_dotenv\n",
    "load_dotenv()\n",
    "from time import sleep\n",
    "import multiprocessing as mp\n",
    "import pandas as pd\n",
    "from itertools import starmap\n",
    "import requests\n",
    "from earthdata_login import get_session\n",
    "\n",
    "from rasterio.windows import transform as get_window_transform\n",
    "from rasterio.transform import rowcol\n",
    "from shapely.geometry import box\n",
    "import rasterio\n",
    "from shapely.geometry import GeometryCollection\n",
    "from rasterio.windows import from_bounds as window_from_bounds\n",
    "from rasterio import default_gtiff_profile\n",
    "from rasterio.transform import array_bounds\n",
    "from rasterio import features\n",
    "\n",
    "from nasadem_val.filter_routines import (get_pixel_values,\n",
    "                                         get_raster_from_window,\n",
    "                                         get_pixel_values_from_raster_window)\n",
    "from nasadem_val.rtree import obtain_intersection_point_mask\n",
    "from nasadem_val.geojson_io import (to_geojson_gzip,\n",
    "                                    read_geojson_gzip)\n",
    "from nasadem_val.nasadem_io import (load_nasadem_hgt_zip, \n",
    "                                    get_profile_from_zip_file, \n",
    "                                    get_nasadem_data,\n",
    "                                    get_dem_slope)"
   ]
  },
  {
   "cell_type": "code",
   "execution_count": 2,
   "metadata": {},
   "outputs": [
    {
     "data": {
      "text/plain": [
       "True"
      ]
     },
     "execution_count": 2,
     "metadata": {},
     "output_type": "execute_result"
    }
   ],
   "source": [
    "GEDI_ORBIT_DIR = Path('/mnt/phh-r0c/users/cmarshak/gedi_orbits_raw')\n",
    "GEDI_ORBIT_DIR.exists()"
   ]
  },
  {
   "cell_type": "code",
   "execution_count": 3,
   "metadata": {},
   "outputs": [],
   "source": [
    "GEDI_AGG_DIR = Path('/mnt/phh-r0c/users/cmarshak/gedi_nasadem_aggregated')\n",
    "GEDI_AGG_DIR.mkdir(exist_ok=True, parents=True)"
   ]
  },
  {
   "cell_type": "code",
   "execution_count": 4,
   "metadata": {},
   "outputs": [],
   "source": [
    "DATA_DIR = '/mnt/phh-r0c/users/cmarshak/'"
   ]
  },
  {
   "cell_type": "code",
   "execution_count": 5,
   "metadata": {},
   "outputs": [
    {
     "data": {
      "text/plain": [
       "([PosixPath('/mnt/phh-r0c/users/cmarshak/gedi_orbits_raw/Australia/s29e141__GEDI02_A_2019127013522_O02255_T03578_02_001_01.geojson.gzip'),\n",
       "  PosixPath('/mnt/phh-r0c/users/cmarshak/gedi_orbits_raw/Australia/s29e125__GEDI02_A_2019128021818_O02271_T02018_02_001_01.geojson.gzip')],\n",
       " 271097)"
      ]
     },
     "execution_count": 5,
     "metadata": {},
     "output_type": "execute_result"
    }
   ],
   "source": [
    "gedi_files = list(GEDI_ORBIT_DIR.glob('*/*.geojson.gzip'))\n",
    "gedi_files[:2], len(gedi_files)"
   ]
  },
  {
   "cell_type": "code",
   "execution_count": 6,
   "metadata": {},
   "outputs": [
    {
     "data": {
      "text/html": [
       "<div>\n",
       "<style scoped>\n",
       "    .dataframe tbody tr th:only-of-type {\n",
       "        vertical-align: middle;\n",
       "    }\n",
       "\n",
       "    .dataframe tbody tr th {\n",
       "        vertical-align: top;\n",
       "    }\n",
       "\n",
       "    .dataframe thead th {\n",
       "        text-align: right;\n",
       "    }\n",
       "</style>\n",
       "<table border=\"1\" class=\"dataframe\">\n",
       "  <thead>\n",
       "    <tr style=\"text-align: right;\">\n",
       "      <th></th>\n",
       "      <th>nasadem_tile_name</th>\n",
       "      <th>raw_gedi_data_path</th>\n",
       "      <th>nasadem_tile_path</th>\n",
       "      <th>continent</th>\n",
       "      <th>bounds</th>\n",
       "    </tr>\n",
       "  </thead>\n",
       "  <tbody>\n",
       "    <tr>\n",
       "      <th>0</th>\n",
       "      <td>n00e006</td>\n",
       "      <td>[/mnt/phh-r0c/users/cmarshak/gedi_orbits_raw/A...</td>\n",
       "      <td>/mnt/phh-r0b/nasadem/daac/Africa/hgt_merge/n00...</td>\n",
       "      <td>Africa</td>\n",
       "      <td>(6.0, -0.0002777777777778212, 7.00027777777777...</td>\n",
       "    </tr>\n",
       "    <tr>\n",
       "      <th>1</th>\n",
       "      <td>n00e009</td>\n",
       "      <td>[/mnt/phh-r0c/users/cmarshak/gedi_orbits_raw/A...</td>\n",
       "      <td>/mnt/phh-r0b/nasadem/daac/Africa/hgt_merge/n00...</td>\n",
       "      <td>Africa</td>\n",
       "      <td>(9.0, -0.0002777777777778212, 10.0002777777777...</td>\n",
       "    </tr>\n",
       "    <tr>\n",
       "      <th>2</th>\n",
       "      <td>n00e010</td>\n",
       "      <td>[/mnt/phh-r0c/users/cmarshak/gedi_orbits_raw/A...</td>\n",
       "      <td>/mnt/phh-r0b/nasadem/daac/Africa/hgt_merge/n00...</td>\n",
       "      <td>Africa</td>\n",
       "      <td>(10.0, -0.0002777777777778212, 11.000277777777...</td>\n",
       "    </tr>\n",
       "    <tr>\n",
       "      <th>3</th>\n",
       "      <td>n00e011</td>\n",
       "      <td>[/mnt/phh-r0c/users/cmarshak/gedi_orbits_raw/A...</td>\n",
       "      <td>/mnt/phh-r0b/nasadem/daac/Africa/hgt_merge/n00...</td>\n",
       "      <td>Africa</td>\n",
       "      <td>(11.0, -0.0002777777777778212, 12.000277777777...</td>\n",
       "    </tr>\n",
       "    <tr>\n",
       "      <th>4</th>\n",
       "      <td>n00e012</td>\n",
       "      <td>[/mnt/phh-r0c/users/cmarshak/gedi_orbits_raw/A...</td>\n",
       "      <td>/mnt/phh-r0b/nasadem/daac/Africa/hgt_merge/n00...</td>\n",
       "      <td>Africa</td>\n",
       "      <td>(12.0, -0.0002777777777778212, 13.000277777777...</td>\n",
       "    </tr>\n",
       "  </tbody>\n",
       "</table>\n",
       "</div>"
      ],
      "text/plain": [
       "  nasadem_tile_name                                 raw_gedi_data_path  \\\n",
       "0           n00e006  [/mnt/phh-r0c/users/cmarshak/gedi_orbits_raw/A...   \n",
       "1           n00e009  [/mnt/phh-r0c/users/cmarshak/gedi_orbits_raw/A...   \n",
       "2           n00e010  [/mnt/phh-r0c/users/cmarshak/gedi_orbits_raw/A...   \n",
       "3           n00e011  [/mnt/phh-r0c/users/cmarshak/gedi_orbits_raw/A...   \n",
       "4           n00e012  [/mnt/phh-r0c/users/cmarshak/gedi_orbits_raw/A...   \n",
       "\n",
       "                                   nasadem_tile_path continent  \\\n",
       "0  /mnt/phh-r0b/nasadem/daac/Africa/hgt_merge/n00...    Africa   \n",
       "1  /mnt/phh-r0b/nasadem/daac/Africa/hgt_merge/n00...    Africa   \n",
       "2  /mnt/phh-r0b/nasadem/daac/Africa/hgt_merge/n00...    Africa   \n",
       "3  /mnt/phh-r0b/nasadem/daac/Africa/hgt_merge/n00...    Africa   \n",
       "4  /mnt/phh-r0b/nasadem/daac/Africa/hgt_merge/n00...    Africa   \n",
       "\n",
       "                                              bounds  \n",
       "0  (6.0, -0.0002777777777778212, 7.00027777777777...  \n",
       "1  (9.0, -0.0002777777777778212, 10.0002777777777...  \n",
       "2  (10.0, -0.0002777777777778212, 11.000277777777...  \n",
       "3  (11.0, -0.0002777777777778212, 12.000277777777...  \n",
       "4  (12.0, -0.0002777777777778212, 13.000277777777...  "
      ]
     },
     "execution_count": 6,
     "metadata": {},
     "output_type": "execute_result"
    }
   ],
   "source": [
    "df_tile_agg = pd.read_pickle('df_tile_agg.pkl')\n",
    "df_tile_agg.head()"
   ]
  },
  {
   "cell_type": "code",
   "execution_count": 7,
   "metadata": {},
   "outputs": [
    {
     "data": {
      "text/plain": [
       "{'nasadem_tile_name': 'n00e006',\n",
       " 'raw_gedi_data_path': [PosixPath('/mnt/phh-r0c/users/cmarshak/gedi_orbits_raw/Africa/n00e006__GEDI02_A_2019207140011_O03505_T02627_02_001_01.geojson.gzip'),\n",
       "  PosixPath('/mnt/phh-r0c/users/cmarshak/gedi_orbits_raw/Africa/n00e006__GEDI02_A_2019156101617_O02711_T02780_02_001_01.geojson.gzip'),\n",
       "  PosixPath('/mnt/phh-r0c/users/cmarshak/gedi_orbits_raw/Africa/n00e006__GEDI02_A_2019163183210_O02825_T05220_02_001_02.geojson.gzip'),\n",
       "  PosixPath('/mnt/phh-r0c/users/cmarshak/gedi_orbits_raw/Africa/n00e006__GEDI02_A_2019189082236_O03222_T02527_02_001_01.geojson.gzip'),\n",
       "  PosixPath('/mnt/phh-r0c/users/cmarshak/gedi_orbits_raw/Africa/n00e006__GEDI02_A_2019167060146_O02879_T02321_02_001_01.geojson.gzip'),\n",
       "  PosixPath('/mnt/phh-r0c/users/cmarshak/gedi_orbits_raw/Africa/n00e006__GEDI02_A_2019182000544_O03108_T02933_02_001_01.geojson.gzip'),\n",
       "  PosixPath('/mnt/phh-r0c/users/cmarshak/gedi_orbits_raw/Africa/n00e006__GEDI02_A_2019174141727_O02993_T00492_02_001_01.geojson.gzip'),\n",
       "  PosixPath('/mnt/phh-r0c/users/cmarshak/gedi_orbits_raw/Africa/n00e006__GEDI02_A_2019121002259_O02161_T03591_02_001_01.geojson.gzip'),\n",
       "  PosixPath('/mnt/phh-r0c/users/cmarshak/gedi_orbits_raw/Africa/n00e006__GEDI02_A_2019204022957_O03451_T04103_02_001_01.geojson.gzip'),\n",
       "  PosixPath('/mnt/phh-r0c/users/cmarshak/gedi_orbits_raw/Africa/n00e006__GEDI02_A_2019152224635_O02657_T05679_02_001_01.geojson.gzip'),\n",
       "  PosixPath('/mnt/phh-r0c/users/cmarshak/gedi_orbits_raw/Africa/n00e006__GEDI02_A_2019192195256_O03276_T05167_02_001_01.geojson.gzip'),\n",
       "  PosixPath('/mnt/phh-r0c/users/cmarshak/gedi_orbits_raw/Africa/n00e006__GEDI02_A_2019110154024_O02000_T04761_02_001_01.geojson.gzip'),\n",
       "  PosixPath('/mnt/phh-r0c/users/cmarshak/gedi_orbits_raw/Africa/n00e006__GEDI02_A_2019214221713_O03619_T02068_02_001_01.geojson.gzip')],\n",
       " 'nasadem_tile_path': PosixPath('/mnt/phh-r0b/nasadem/daac/Africa/hgt_merge/n00e006.hgt.zip'),\n",
       " 'continent': 'Africa',\n",
       " 'bounds': (6.0, -0.0002777777777778212, 7.000277777777778, 1.0)}"
      ]
     },
     "execution_count": 7,
     "metadata": {},
     "output_type": "execute_result"
    }
   ],
   "source": [
    "tile_records = df_tile_agg.to_dict('records')\n",
    "tile_records[0]"
   ]
  },
  {
   "cell_type": "code",
   "execution_count": 8,
   "metadata": {},
   "outputs": [],
   "source": [
    "def get_one_gedi_df(path):\n",
    "    df = read_geojson_gzip(path)\n",
    "    return df\n",
    "\n",
    "def get_all_gedi_data_for_tile(tile_entry):\n",
    "    paths = tile_entry['raw_gedi_data_path']\n",
    "    dfs = list(map(get_one_gedi_df, tqdm(paths)))\n",
    "    df = pd.concat(dfs, axis=0).reset_index(drop=True)\n",
    "    return df"
   ]
  },
  {
   "cell_type": "code",
   "execution_count": 9,
   "metadata": {},
   "outputs": [
    {
     "name": "stderr",
     "output_type": "stream",
     "text": [
      "  0%|          | 0/13 [00:00<?, ?it/s]/mnt/phh-r0c/users/cmarshak/anaconda3/envs/gis/lib/python3.7/site-packages/pyproj/crs.py:77: FutureWarning: '+init=<authority>:<code>' syntax is deprecated. '<authority>:<code>' is the preferred initialization method.\n",
      "  return _prepare_from_string(\" \".join(pjargs))\n",
      "100%|██████████| 13/13 [00:06<00:00,  2.15it/s]\n"
     ]
    },
    {
     "data": {
      "text/html": [
       "<div>\n",
       "<style scoped>\n",
       "    .dataframe tbody tr th:only-of-type {\n",
       "        vertical-align: middle;\n",
       "    }\n",
       "\n",
       "    .dataframe tbody tr th {\n",
       "        vertical-align: top;\n",
       "    }\n",
       "\n",
       "    .dataframe thead th {\n",
       "        text-align: right;\n",
       "    }\n",
       "</style>\n",
       "<table border=\"1\" class=\"dataframe\">\n",
       "  <thead>\n",
       "    <tr style=\"text-align: right;\">\n",
       "      <th></th>\n",
       "      <th>geometry</th>\n",
       "      <th>beam</th>\n",
       "      <th>channel</th>\n",
       "      <th>degrade_flag</th>\n",
       "      <th>delta_time</th>\n",
       "      <th>digital_elevation_model</th>\n",
       "      <th>elev_highestreturn</th>\n",
       "      <th>elev_lowestmode</th>\n",
       "      <th>elevation_bias_flag</th>\n",
       "      <th>elevation_bin0_error</th>\n",
       "      <th>...</th>\n",
       "      <th>shot_number</th>\n",
       "      <th>solar_azimuth</th>\n",
       "      <th>solar_elevation</th>\n",
       "      <th>surface_flag</th>\n",
       "      <th>landsat_treecover</th>\n",
       "      <th>modis_nonvegetated</th>\n",
       "      <th>modis_nonvegetated_sd</th>\n",
       "      <th>modis_treecover</th>\n",
       "      <th>modis_treecover_sd</th>\n",
       "      <th>orbit_name</th>\n",
       "    </tr>\n",
       "  </thead>\n",
       "  <tbody>\n",
       "    <tr>\n",
       "      <th>0</th>\n",
       "      <td>POINT (6.00003 0.06393)</td>\n",
       "      <td>0</td>\n",
       "      <td>0</td>\n",
       "      <td>0</td>\n",
       "      <td>4.938619e+07</td>\n",
       "      <td>-999999.0</td>\n",
       "      <td>19.072321</td>\n",
       "      <td>16.411947</td>\n",
       "      <td>1</td>\n",
       "      <td>0.258248</td>\n",
       "      <td>...</td>\n",
       "      <td>35050003000091202</td>\n",
       "      <td>-61.347122</td>\n",
       "      <td>46.432766</td>\n",
       "      <td>1</td>\n",
       "      <td>0.0</td>\n",
       "      <td>-9999.0</td>\n",
       "      <td>0.0</td>\n",
       "      <td>-9999.0</td>\n",
       "      <td>0.0</td>\n",
       "      <td>GEDI02_A_2019207140011_O03505_T02627_02_001_01.h5</td>\n",
       "    </tr>\n",
       "    <tr>\n",
       "      <th>1</th>\n",
       "      <td>POINT (6.00033 0.06435)</td>\n",
       "      <td>0</td>\n",
       "      <td>0</td>\n",
       "      <td>0</td>\n",
       "      <td>4.938619e+07</td>\n",
       "      <td>-999999.0</td>\n",
       "      <td>18.510057</td>\n",
       "      <td>15.737273</td>\n",
       "      <td>1</td>\n",
       "      <td>0.258247</td>\n",
       "      <td>...</td>\n",
       "      <td>35050003200091203</td>\n",
       "      <td>-61.347675</td>\n",
       "      <td>46.432678</td>\n",
       "      <td>1</td>\n",
       "      <td>0.0</td>\n",
       "      <td>-9999.0</td>\n",
       "      <td>0.0</td>\n",
       "      <td>-9999.0</td>\n",
       "      <td>0.0</td>\n",
       "      <td>GEDI02_A_2019207140011_O03505_T02627_02_001_01.h5</td>\n",
       "    </tr>\n",
       "    <tr>\n",
       "      <th>2</th>\n",
       "      <td>POINT (6.00062 0.06477)</td>\n",
       "      <td>0</td>\n",
       "      <td>0</td>\n",
       "      <td>0</td>\n",
       "      <td>4.938619e+07</td>\n",
       "      <td>-999999.0</td>\n",
       "      <td>19.217592</td>\n",
       "      <td>16.894453</td>\n",
       "      <td>1</td>\n",
       "      <td>0.258245</td>\n",
       "      <td>...</td>\n",
       "      <td>35050003400091204</td>\n",
       "      <td>-61.348228</td>\n",
       "      <td>46.432587</td>\n",
       "      <td>1</td>\n",
       "      <td>0.0</td>\n",
       "      <td>-9999.0</td>\n",
       "      <td>0.0</td>\n",
       "      <td>-9999.0</td>\n",
       "      <td>0.0</td>\n",
       "      <td>GEDI02_A_2019207140011_O03505_T02627_02_001_01.h5</td>\n",
       "    </tr>\n",
       "    <tr>\n",
       "      <th>3</th>\n",
       "      <td>POINT (6.00092 0.06519)</td>\n",
       "      <td>0</td>\n",
       "      <td>0</td>\n",
       "      <td>0</td>\n",
       "      <td>4.938619e+07</td>\n",
       "      <td>-999999.0</td>\n",
       "      <td>18.968287</td>\n",
       "      <td>16.457911</td>\n",
       "      <td>1</td>\n",
       "      <td>0.258244</td>\n",
       "      <td>...</td>\n",
       "      <td>35050003600091205</td>\n",
       "      <td>-61.348782</td>\n",
       "      <td>46.432499</td>\n",
       "      <td>1</td>\n",
       "      <td>0.0</td>\n",
       "      <td>-9999.0</td>\n",
       "      <td>0.0</td>\n",
       "      <td>-9999.0</td>\n",
       "      <td>0.0</td>\n",
       "      <td>GEDI02_A_2019207140011_O03505_T02627_02_001_01.h5</td>\n",
       "    </tr>\n",
       "    <tr>\n",
       "      <th>4</th>\n",
       "      <td>POINT (6.00121 0.06561)</td>\n",
       "      <td>0</td>\n",
       "      <td>0</td>\n",
       "      <td>0</td>\n",
       "      <td>4.938619e+07</td>\n",
       "      <td>-999999.0</td>\n",
       "      <td>20.331656</td>\n",
       "      <td>17.858644</td>\n",
       "      <td>1</td>\n",
       "      <td>0.258242</td>\n",
       "      <td>...</td>\n",
       "      <td>35050003800091206</td>\n",
       "      <td>-61.349335</td>\n",
       "      <td>46.432411</td>\n",
       "      <td>1</td>\n",
       "      <td>0.0</td>\n",
       "      <td>-9999.0</td>\n",
       "      <td>0.0</td>\n",
       "      <td>-9999.0</td>\n",
       "      <td>0.0</td>\n",
       "      <td>GEDI02_A_2019207140011_O03505_T02627_02_001_01.h5</td>\n",
       "    </tr>\n",
       "  </tbody>\n",
       "</table>\n",
       "<p>5 rows × 41 columns</p>\n",
       "</div>"
      ],
      "text/plain": [
       "                  geometry  beam  channel  degrade_flag    delta_time  \\\n",
       "0  POINT (6.00003 0.06393)     0        0             0  4.938619e+07   \n",
       "1  POINT (6.00033 0.06435)     0        0             0  4.938619e+07   \n",
       "2  POINT (6.00062 0.06477)     0        0             0  4.938619e+07   \n",
       "3  POINT (6.00092 0.06519)     0        0             0  4.938619e+07   \n",
       "4  POINT (6.00121 0.06561)     0        0             0  4.938619e+07   \n",
       "\n",
       "   digital_elevation_model  elev_highestreturn  elev_lowestmode  \\\n",
       "0                -999999.0           19.072321        16.411947   \n",
       "1                -999999.0           18.510057        15.737273   \n",
       "2                -999999.0           19.217592        16.894453   \n",
       "3                -999999.0           18.968287        16.457911   \n",
       "4                -999999.0           20.331656        17.858644   \n",
       "\n",
       "   elevation_bias_flag  elevation_bin0_error  ...        shot_number  \\\n",
       "0                    1              0.258248  ...  35050003000091202   \n",
       "1                    1              0.258247  ...  35050003200091203   \n",
       "2                    1              0.258245  ...  35050003400091204   \n",
       "3                    1              0.258244  ...  35050003600091205   \n",
       "4                    1              0.258242  ...  35050003800091206   \n",
       "\n",
       "   solar_azimuth  solar_elevation  surface_flag  landsat_treecover  \\\n",
       "0     -61.347122        46.432766             1                0.0   \n",
       "1     -61.347675        46.432678             1                0.0   \n",
       "2     -61.348228        46.432587             1                0.0   \n",
       "3     -61.348782        46.432499             1                0.0   \n",
       "4     -61.349335        46.432411             1                0.0   \n",
       "\n",
       "   modis_nonvegetated  modis_nonvegetated_sd  modis_treecover  \\\n",
       "0             -9999.0                    0.0          -9999.0   \n",
       "1             -9999.0                    0.0          -9999.0   \n",
       "2             -9999.0                    0.0          -9999.0   \n",
       "3             -9999.0                    0.0          -9999.0   \n",
       "4             -9999.0                    0.0          -9999.0   \n",
       "\n",
       "   modis_treecover_sd                                         orbit_name  \n",
       "0                 0.0  GEDI02_A_2019207140011_O03505_T02627_02_001_01.h5  \n",
       "1                 0.0  GEDI02_A_2019207140011_O03505_T02627_02_001_01.h5  \n",
       "2                 0.0  GEDI02_A_2019207140011_O03505_T02627_02_001_01.h5  \n",
       "3                 0.0  GEDI02_A_2019207140011_O03505_T02627_02_001_01.h5  \n",
       "4                 0.0  GEDI02_A_2019207140011_O03505_T02627_02_001_01.h5  \n",
       "\n",
       "[5 rows x 41 columns]"
      ]
     },
     "execution_count": 9,
     "metadata": {},
     "output_type": "execute_result"
    }
   ],
   "source": [
    "df = get_all_gedi_data_for_tile(tile_records[0])\n",
    "df.head()"
   ]
  },
  {
   "cell_type": "code",
   "execution_count": 10,
   "metadata": {},
   "outputs": [
    {
     "data": {
      "text/plain": [
       "((117468, 41),\n",
       " Index(['geometry', 'beam', 'channel', 'degrade_flag', 'delta_time',\n",
       "        'digital_elevation_model', 'elev_highestreturn', 'elev_lowestmode',\n",
       "        'elevation_bias_flag', 'elevation_bin0_error', 'energy_total',\n",
       "        'lat_highestreturn', 'lat_lowestmode', 'latitude_bin0_error',\n",
       "        'lon_highestreturn', 'lon_lowestmode', 'longitude_bin0_error',\n",
       "        'master_frac', 'master_int', 'mean_sea_surface', 'num_detectedmodes',\n",
       "        'quality_flag', 'rh_0', 'rh_25', 'rh_50', 'rh_75', 'rh_98', 'rh_100',\n",
       "        'selected_algorithm', 'selected_mode', 'sensitivity', 'shot_number',\n",
       "        'solar_azimuth', 'solar_elevation', 'surface_flag', 'landsat_treecover',\n",
       "        'modis_nonvegetated', 'modis_nonvegetated_sd', 'modis_treecover',\n",
       "        'modis_treecover_sd', 'orbit_name'],\n",
       "       dtype='object'))"
      ]
     },
     "execution_count": 10,
     "metadata": {},
     "output_type": "execute_result"
    }
   ],
   "source": [
    "df.shape, df.columns"
   ]
  },
  {
   "cell_type": "code",
   "execution_count": 11,
   "metadata": {},
   "outputs": [],
   "source": [
    "GLOBAL_WATER_MASK_PATH = '/mnt/phh-r0c/users/cmarshak/hydropolys/'\n",
    "with rasterio.open('/mnt/phh-r0c/users/cmarshak/geoids/egm96-15.tif') as ds:\n",
    "    GEOID_RASTER = ds.read(1)\n",
    "    GEOID_PROFILE = ds.profile"
   ]
  },
  {
   "cell_type": "code",
   "execution_count": 12,
   "metadata": {},
   "outputs": [
    {
     "data": {
      "text/plain": [
       "True"
      ]
     },
     "execution_count": 12,
     "metadata": {},
     "output_type": "execute_result"
    }
   ],
   "source": [
    "PECKEL_OCCURENCE_PATH = Path('/mnt/phh-r0c/users/cmarshak/peckel_data/occurrence.kea')\n",
    "PECKEL_OCCURENCE_PATH.exists()"
   ]
  },
  {
   "cell_type": "code",
   "execution_count": 13,
   "metadata": {},
   "outputs": [],
   "source": [
    "GLIMS_GEOMETRY_PATH = '/mnt/phh-r0c/users/mdenbina/glims/glims_polygons_buffered.shp'"
   ]
  },
  {
   "cell_type": "code",
   "execution_count": 14,
   "metadata": {},
   "outputs": [],
   "source": [
    "def append_nasadem_data(df, nasadem_path):\n",
    "    if df.empty:\n",
    "        return df \n",
    "    height, nasadem_profile = get_nasadem_data(nasadem_path)\n",
    "    slope = get_dem_slope(height, nasadem_profile['transform'])\n",
    "    \n",
    "    height_series, slope_series = get_pixel_values(df.geometry, \n",
    "                                                   [height, slope], \n",
    "                                                   nasadem_profile)\n",
    "\n",
    "    df['nasadem'] = height_series\n",
    "    df['nasadem_slope_degrees'] = slope_series\n",
    "    return df\n",
    "\n",
    "\n",
    "def append_egm96_data(df):\n",
    "    if df.empty:\n",
    "        return df\n",
    "    \n",
    "    egm_series = get_pixel_values(df.geometry, GEOID_RASTER, GEOID_PROFILE)\n",
    "    df['egm_96'] = egm_series\n",
    "    return df\n",
    "\n",
    "def append_peckel_occurrence_data(df):\n",
    "    window_extent = df.total_bounds\n",
    "    peckel_series = get_pixel_values_from_raster_window(df.geometry, \n",
    "                                                        window_extent, \n",
    "                                                        PECKEL_OCCURENCE_PATH)\n",
    "    df['peckel_occurrence'] = peckel_series\n",
    "    return df\n",
    "\n",
    "def append_buffered_glims(df, nasadem_path):\n",
    "    nasadem_p = get_profile_from_zip_file(test_record['nasadem_tile_path'])\n",
    "    nasadem_bounds = array_bounds(nasadem_p['height'], nasadem_p['width'], nasadem_p['transform'])\n",
    "    \n",
    "    df_geometry = gpd.read_file(GLIMS_GEOMETRY_PATH, bbox=tuple(nasadem_bounds))\n",
    "    \n",
    "    if df_geometry.empty:\n",
    "        df['glim_buffered'] = 0\n",
    "        \n",
    "    else:\n",
    "        box_geo = box(*nasadem_bounds)\n",
    "        mask_geometry = df_geometry.geometry.intersection(box_geo).geometry.unary_union\n",
    "        mask = rasterize_shapes_to_array([mask_geometry], [1], p, all_touched=True, fill_value=0)\n",
    "\n",
    "        glim_series = get_pixel_values(df.geometry, \n",
    "                                       mask,\n",
    "                                       nasadem_p)\n",
    "\n",
    "        df['glim_buffered'] = glim_series\n",
    "    return df"
   ]
  },
  {
   "cell_type": "markdown",
   "metadata": {},
   "source": [
    "# Tests"
   ]
  },
  {
   "cell_type": "code",
   "execution_count": 15,
   "metadata": {},
   "outputs": [
    {
     "data": {
      "text/plain": [
       "{'nasadem_tile_name': 'n00e009',\n",
       " 'raw_gedi_data_path': [PosixPath('/mnt/phh-r0c/users/cmarshak/gedi_orbits_raw/Africa/n00e009__GEDI02_A_2019111040155_O02008_T04616_02_001_01.geojson.gzip'),\n",
       "  PosixPath('/mnt/phh-r0c/users/cmarshak/gedi_orbits_raw/Africa/n00e009__GEDI02_A_2019118011926_O02115_T02887_02_001_01.geojson.gzip'),\n",
       "  PosixPath('/mnt/phh-r0c/users/cmarshak/gedi_orbits_raw/Africa/n00e009__GEDI02_A_2019146011955_O02550_T02940_02_001_01.geojson.gzip'),\n",
       "  PosixPath('/mnt/phh-r0c/users/cmarshak/gedi_orbits_raw/Africa/n00e009__GEDI02_A_2019164065420_O02833_T03499_02_001_01.geojson.gzip'),\n",
       "  PosixPath('/mnt/phh-r0c/users/cmarshak/gedi_orbits_raw/Africa/n00e009__GEDI02_A_2019124223647_O02222_T05580_02_001_01.geojson.gzip'),\n",
       "  PosixPath('/mnt/phh-r0c/users/cmarshak/gedi_orbits_raw/Africa/n00e009__GEDI02_A_2019197050212_O03344_T01670_02_001_01.geojson.gzip'),\n",
       "  PosixPath('/mnt/phh-r0c/users/cmarshak/gedi_orbits_raw/Africa/n00e009__GEDI02_A_2019156210541_O02718_T01058_02_001_01.geojson.gzip'),\n",
       "  PosixPath('/mnt/phh-r0c/users/cmarshak/gedi_orbits_raw/Africa/n00e009__GEDI02_A_2019185222503_O03169_T02734_02_001_01.geojson.gzip'),\n",
       "  PosixPath('/mnt/phh-r0c/users/cmarshak/gedi_orbits_raw/Africa/n00e009__GEDI02_A_2019171151005_O02947_T01823_02_001_01.geojson.gzip'),\n",
       "  PosixPath('/mnt/phh-r0c/users/cmarshak/gedi_orbits_raw/Africa/n00e009__GEDI02_A_2019215103928_O03627_T00347_02_001_01.geojson.gzip'),\n",
       "  PosixPath('/mnt/phh-r0c/users/cmarshak/gedi_orbits_raw/Africa/n00e009__GEDI02_A_2019200163229_O03398_T04310_02_001_01.geojson.gzip'),\n",
       "  PosixPath('/mnt/phh-r0c/users/cmarshak/gedi_orbits_raw/Africa/n00e009__GEDI02_A_2019182105506_O03115_T05633_02_001_01.geojson.gzip'),\n",
       "  PosixPath('/mnt/phh-r0c/users/cmarshak/gedi_orbits_raw/Africa/n00e009__GEDI02_A_2019175023936_O03001_T03040_02_001_01.geojson.gzip'),\n",
       "  PosixPath('/mnt/phh-r0c/users/cmarshak/gedi_orbits_raw/Africa/n00e009__GEDI02_A_2019149124939_O02604_T00041_02_001_02.geojson.gzip')],\n",
       " 'nasadem_tile_path': PosixPath('/mnt/phh-r0b/nasadem/daac/Africa/hgt_merge/n00e009.hgt.zip'),\n",
       " 'continent': 'Africa',\n",
       " 'bounds': (9.0, -0.0002777777777778212, 10.000277777777779, 1.0)}"
      ]
     },
     "execution_count": 15,
     "metadata": {},
     "output_type": "execute_result"
    }
   ],
   "source": [
    "TEST_INDEX = 1\n",
    "test_record = tile_records[TEST_INDEX]\n",
    "\n",
    "\n",
    "# tile_name = 's49w073'#'s50w074'\n",
    "# TEST_INDEX = [k for k in range(len(tile_records)) if tile_name in tile_records[k]['nasadem_tile_name']][0]\n",
    "test_record = tile_records[TEST_INDEX]\n",
    "test_record"
   ]
  },
  {
   "cell_type": "code",
   "execution_count": 16,
   "metadata": {},
   "outputs": [
    {
     "name": "stderr",
     "output_type": "stream",
     "text": [
      "  0%|          | 0/14 [00:00<?, ?it/s]/mnt/phh-r0c/users/cmarshak/anaconda3/envs/gis/lib/python3.7/site-packages/pyproj/crs.py:77: FutureWarning: '+init=<authority>:<code>' syntax is deprecated. '<authority>:<code>' is the preferred initialization method.\n",
      "  return _prepare_from_string(\" \".join(pjargs))\n",
      "100%|██████████| 14/14 [00:09<00:00,  1.48it/s]\n"
     ]
    },
    {
     "data": {
      "text/html": [
       "<div>\n",
       "<style scoped>\n",
       "    .dataframe tbody tr th:only-of-type {\n",
       "        vertical-align: middle;\n",
       "    }\n",
       "\n",
       "    .dataframe tbody tr th {\n",
       "        vertical-align: top;\n",
       "    }\n",
       "\n",
       "    .dataframe thead th {\n",
       "        text-align: right;\n",
       "    }\n",
       "</style>\n",
       "<table border=\"1\" class=\"dataframe\">\n",
       "  <thead>\n",
       "    <tr style=\"text-align: right;\">\n",
       "      <th></th>\n",
       "      <th>geometry</th>\n",
       "      <th>beam</th>\n",
       "      <th>channel</th>\n",
       "      <th>degrade_flag</th>\n",
       "      <th>delta_time</th>\n",
       "      <th>digital_elevation_model</th>\n",
       "      <th>elev_highestreturn</th>\n",
       "      <th>elev_lowestmode</th>\n",
       "      <th>elevation_bias_flag</th>\n",
       "      <th>elevation_bin0_error</th>\n",
       "      <th>...</th>\n",
       "      <th>shot_number</th>\n",
       "      <th>solar_azimuth</th>\n",
       "      <th>solar_elevation</th>\n",
       "      <th>surface_flag</th>\n",
       "      <th>landsat_treecover</th>\n",
       "      <th>modis_nonvegetated</th>\n",
       "      <th>modis_nonvegetated_sd</th>\n",
       "      <th>modis_treecover</th>\n",
       "      <th>modis_treecover_sd</th>\n",
       "      <th>orbit_name</th>\n",
       "    </tr>\n",
       "  </thead>\n",
       "  <tbody>\n",
       "    <tr>\n",
       "      <th>0</th>\n",
       "      <td>POINT (9.30436 0.00010)</td>\n",
       "      <td>0</td>\n",
       "      <td>0</td>\n",
       "      <td>0</td>\n",
       "      <td>4.105589e+07</td>\n",
       "      <td>-999999.0</td>\n",
       "      <td>14.738804</td>\n",
       "      <td>11.816985</td>\n",
       "      <td>1</td>\n",
       "      <td>0.281086</td>\n",
       "      <td>...</td>\n",
       "      <td>20080002200050566</td>\n",
       "      <td>77.782059</td>\n",
       "      <td>-14.156668</td>\n",
       "      <td>1</td>\n",
       "      <td>0.0</td>\n",
       "      <td>-9999.0</td>\n",
       "      <td>0.0</td>\n",
       "      <td>-9999.0</td>\n",
       "      <td>0.0</td>\n",
       "      <td>GEDI02_A_2019111040155_O02008_T04616_02_001_01.h5</td>\n",
       "    </tr>\n",
       "    <tr>\n",
       "      <th>1</th>\n",
       "      <td>POINT (9.30466 0.00052)</td>\n",
       "      <td>0</td>\n",
       "      <td>0</td>\n",
       "      <td>0</td>\n",
       "      <td>4.105589e+07</td>\n",
       "      <td>-999999.0</td>\n",
       "      <td>14.808938</td>\n",
       "      <td>11.699823</td>\n",
       "      <td>1</td>\n",
       "      <td>0.281087</td>\n",
       "      <td>...</td>\n",
       "      <td>20080002400050567</td>\n",
       "      <td>77.781967</td>\n",
       "      <td>-14.156255</td>\n",
       "      <td>1</td>\n",
       "      <td>0.0</td>\n",
       "      <td>-9999.0</td>\n",
       "      <td>0.0</td>\n",
       "      <td>-9999.0</td>\n",
       "      <td>0.0</td>\n",
       "      <td>GEDI02_A_2019111040155_O02008_T04616_02_001_01.h5</td>\n",
       "    </tr>\n",
       "    <tr>\n",
       "      <th>2</th>\n",
       "      <td>POINT (9.30496 0.00095)</td>\n",
       "      <td>0</td>\n",
       "      <td>0</td>\n",
       "      <td>0</td>\n",
       "      <td>4.105589e+07</td>\n",
       "      <td>-999999.0</td>\n",
       "      <td>14.582099</td>\n",
       "      <td>11.735198</td>\n",
       "      <td>1</td>\n",
       "      <td>0.281089</td>\n",
       "      <td>...</td>\n",
       "      <td>20080002600050568</td>\n",
       "      <td>77.781883</td>\n",
       "      <td>-14.155842</td>\n",
       "      <td>1</td>\n",
       "      <td>0.0</td>\n",
       "      <td>-9999.0</td>\n",
       "      <td>0.0</td>\n",
       "      <td>-9999.0</td>\n",
       "      <td>0.0</td>\n",
       "      <td>GEDI02_A_2019111040155_O02008_T04616_02_001_01.h5</td>\n",
       "    </tr>\n",
       "    <tr>\n",
       "      <th>3</th>\n",
       "      <td>POINT (9.30525 0.00137)</td>\n",
       "      <td>0</td>\n",
       "      <td>0</td>\n",
       "      <td>0</td>\n",
       "      <td>4.105589e+07</td>\n",
       "      <td>-999999.0</td>\n",
       "      <td>14.664258</td>\n",
       "      <td>11.667521</td>\n",
       "      <td>1</td>\n",
       "      <td>0.281090</td>\n",
       "      <td>...</td>\n",
       "      <td>20080002800050569</td>\n",
       "      <td>77.781799</td>\n",
       "      <td>-14.155428</td>\n",
       "      <td>1</td>\n",
       "      <td>0.0</td>\n",
       "      <td>-9999.0</td>\n",
       "      <td>0.0</td>\n",
       "      <td>-9999.0</td>\n",
       "      <td>0.0</td>\n",
       "      <td>GEDI02_A_2019111040155_O02008_T04616_02_001_01.h5</td>\n",
       "    </tr>\n",
       "    <tr>\n",
       "      <th>4</th>\n",
       "      <td>POINT (9.30555 0.00179)</td>\n",
       "      <td>0</td>\n",
       "      <td>0</td>\n",
       "      <td>0</td>\n",
       "      <td>4.105589e+07</td>\n",
       "      <td>-999999.0</td>\n",
       "      <td>14.658381</td>\n",
       "      <td>11.586724</td>\n",
       "      <td>1</td>\n",
       "      <td>0.281091</td>\n",
       "      <td>...</td>\n",
       "      <td>20080003000050570</td>\n",
       "      <td>77.781708</td>\n",
       "      <td>-14.155015</td>\n",
       "      <td>1</td>\n",
       "      <td>0.0</td>\n",
       "      <td>-9999.0</td>\n",
       "      <td>0.0</td>\n",
       "      <td>-9999.0</td>\n",
       "      <td>0.0</td>\n",
       "      <td>GEDI02_A_2019111040155_O02008_T04616_02_001_01.h5</td>\n",
       "    </tr>\n",
       "  </tbody>\n",
       "</table>\n",
       "<p>5 rows × 41 columns</p>\n",
       "</div>"
      ],
      "text/plain": [
       "                  geometry  beam  channel  degrade_flag    delta_time  \\\n",
       "0  POINT (9.30436 0.00010)     0        0             0  4.105589e+07   \n",
       "1  POINT (9.30466 0.00052)     0        0             0  4.105589e+07   \n",
       "2  POINT (9.30496 0.00095)     0        0             0  4.105589e+07   \n",
       "3  POINT (9.30525 0.00137)     0        0             0  4.105589e+07   \n",
       "4  POINT (9.30555 0.00179)     0        0             0  4.105589e+07   \n",
       "\n",
       "   digital_elevation_model  elev_highestreturn  elev_lowestmode  \\\n",
       "0                -999999.0           14.738804        11.816985   \n",
       "1                -999999.0           14.808938        11.699823   \n",
       "2                -999999.0           14.582099        11.735198   \n",
       "3                -999999.0           14.664258        11.667521   \n",
       "4                -999999.0           14.658381        11.586724   \n",
       "\n",
       "   elevation_bias_flag  elevation_bin0_error  ...        shot_number  \\\n",
       "0                    1              0.281086  ...  20080002200050566   \n",
       "1                    1              0.281087  ...  20080002400050567   \n",
       "2                    1              0.281089  ...  20080002600050568   \n",
       "3                    1              0.281090  ...  20080002800050569   \n",
       "4                    1              0.281091  ...  20080003000050570   \n",
       "\n",
       "   solar_azimuth  solar_elevation  surface_flag  landsat_treecover  \\\n",
       "0      77.782059       -14.156668             1                0.0   \n",
       "1      77.781967       -14.156255             1                0.0   \n",
       "2      77.781883       -14.155842             1                0.0   \n",
       "3      77.781799       -14.155428             1                0.0   \n",
       "4      77.781708       -14.155015             1                0.0   \n",
       "\n",
       "   modis_nonvegetated  modis_nonvegetated_sd  modis_treecover  \\\n",
       "0             -9999.0                    0.0          -9999.0   \n",
       "1             -9999.0                    0.0          -9999.0   \n",
       "2             -9999.0                    0.0          -9999.0   \n",
       "3             -9999.0                    0.0          -9999.0   \n",
       "4             -9999.0                    0.0          -9999.0   \n",
       "\n",
       "   modis_treecover_sd                                         orbit_name  \n",
       "0                 0.0  GEDI02_A_2019111040155_O02008_T04616_02_001_01.h5  \n",
       "1                 0.0  GEDI02_A_2019111040155_O02008_T04616_02_001_01.h5  \n",
       "2                 0.0  GEDI02_A_2019111040155_O02008_T04616_02_001_01.h5  \n",
       "3                 0.0  GEDI02_A_2019111040155_O02008_T04616_02_001_01.h5  \n",
       "4                 0.0  GEDI02_A_2019111040155_O02008_T04616_02_001_01.h5  \n",
       "\n",
       "[5 rows x 41 columns]"
      ]
     },
     "execution_count": 16,
     "metadata": {},
     "output_type": "execute_result"
    }
   ],
   "source": [
    "df = get_all_gedi_data_for_tile(test_record)\n",
    "#df = df[:2000].copy()\n",
    "df.head()"
   ]
  },
  {
   "cell_type": "code",
   "execution_count": 17,
   "metadata": {},
   "outputs": [],
   "source": [
    "out_test_dir = Path(f'test_inspection/{TEST_INDEX}')\n",
    "out_test_dir.mkdir(exist_ok=True, parents=True)"
   ]
  },
  {
   "cell_type": "markdown",
   "metadata": {},
   "source": [
    "## Test EGM"
   ]
  },
  {
   "cell_type": "code",
   "execution_count": 18,
   "metadata": {},
   "outputs": [],
   "source": [
    "df = append_egm96_data(df)"
   ]
  },
  {
   "cell_type": "markdown",
   "metadata": {},
   "source": [
    "## Test NASADEM"
   ]
  },
  {
   "cell_type": "code",
   "execution_count": 19,
   "metadata": {},
   "outputs": [],
   "source": [
    "df = append_nasadem_data(df, test_record['nasadem_tile_path'])"
   ]
  },
  {
   "cell_type": "code",
   "execution_count": 20,
   "metadata": {},
   "outputs": [],
   "source": [
    "height, nd_profile = get_nasadem_data(test_record['nasadem_tile_path'])\n",
    "\n",
    "nd_profile['dtype'] = 'int32'\n",
    "with rasterio.open(out_test_dir/'nasadem.tif', 'w', **nd_profile) as ds:\n",
    "    ds.write(height.astype(np.int32), 1)\n",
    "    \n",
    "slope = get_dem_slope(height, nd_profile['transform'])\n",
    "\n",
    "nd_profile['dtype'] = 'float32'\n",
    "with rasterio.open(out_test_dir/'nasadem_slope.tif', 'w', **nd_profile) as ds:\n",
    "    ds.write(slope.astype(np.float32), 1)\n",
    "    "
   ]
  },
  {
   "cell_type": "markdown",
   "metadata": {},
   "source": [
    "## Test Peckel"
   ]
  },
  {
   "cell_type": "code",
   "execution_count": 23,
   "metadata": {},
   "outputs": [],
   "source": [
    "df = append_peckel_occurrence_data(df)"
   ]
  },
  {
   "cell_type": "code",
   "execution_count": 24,
   "metadata": {},
   "outputs": [],
   "source": [
    "window_extent = df.total_bounds\n",
    "peckel_series = get_pixel_values_from_raster_window(df.geometry, \n",
    "                                                    window_extent, \n",
    "                                                    PECKEL_OCCURENCE_PATH)"
   ]
  },
  {
   "cell_type": "code",
   "execution_count": 25,
   "metadata": {},
   "outputs": [
    {
     "data": {
      "text/plain": [
       "(173400,)"
      ]
     },
     "execution_count": 25,
     "metadata": {},
     "output_type": "execute_result"
    }
   ],
   "source": [
    "peckel_series.shape"
   ]
  },
  {
   "cell_type": "code",
   "execution_count": 26,
   "metadata": {},
   "outputs": [],
   "source": [
    "df['peckel_occurrence'] = peckel_series"
   ]
  },
  {
   "cell_type": "code",
   "execution_count": 27,
   "metadata": {},
   "outputs": [],
   "source": [
    "raster_file_path = PECKEL_OCCURENCE_PATH\n",
    "window_arr, window_profile = get_raster_from_window(raster_file_path, df.total_bounds)\n",
    "\n",
    "with rasterio.open(out_test_dir/'peckel_window.tif', 'w', **window_profile) as ds:\n",
    "    ds.write(window_arr, 1)"
   ]
  },
  {
   "cell_type": "markdown",
   "metadata": {},
   "source": [
    "## Test Glims"
   ]
  },
  {
   "cell_type": "code",
   "execution_count": 28,
   "metadata": {},
   "outputs": [],
   "source": [
    "nasadem_p = get_profile_from_zip_file(test_record['nasadem_tile_path'])\n",
    "nasadem_bounds = array_bounds(nasadem_p['height'], nasadem_p['width'], nasadem_p['transform'])\n",
    "\n",
    "df_geometry = gpd.read_file(GLIMS_GEOMETRY_PATH, bbox=tuple(nasadem_bounds))\n",
    "if df_geometry.empty:\n",
    "    mask = np.zeros((nasadem_p['height'], nasadem_p['width']), dtype=np.int16)\n",
    "else:\n",
    "    box_geo = box(*nasadem_bounds)\n",
    "    mask_geometry = df_geometry.geometry.intersection(box_geo).geometry.unary_union\n",
    "    mask = rasterize_shapes_to_array([mask_geometry], [1], nasadem_p, all_touched=True, fill_value=0)"
   ]
  },
  {
   "cell_type": "code",
   "execution_count": 29,
   "metadata": {},
   "outputs": [
    {
     "data": {
      "text/plain": [
       "<matplotlib.image.AxesImage at 0x7f7580bdf5d0>"
      ]
     },
     "execution_count": 29,
     "metadata": {},
     "output_type": "execute_result"
    },
    {
     "data": {
      "image/png": "[encoded data removed]",
      "text/plain": [
       "<Figure size 432x288 with 1 Axes>"
      ]
     },
     "metadata": {
      "needs_background": "light"
     },
     "output_type": "display_data"
    }
   ],
   "source": [
    "plt.imshow(mask)"
   ]
  },
  {
   "cell_type": "code",
   "execution_count": 30,
   "metadata": {},
   "outputs": [],
   "source": [
    "with rasterio.open(out_test_dir/'glims_mask.tif', 'w', **nasadem_p) as ds:\n",
    "    ds.write(mask, 1)"
   ]
  },
  {
   "cell_type": "code",
   "execution_count": 31,
   "metadata": {},
   "outputs": [],
   "source": [
    "df = append_buffered_glims(df, test_record['nasadem_tile_path'])"
   ]
  },
  {
   "cell_type": "markdown",
   "metadata": {},
   "source": [
    "## Write"
   ]
  },
  {
   "cell_type": "code",
   "execution_count": 32,
   "metadata": {},
   "outputs": [],
   "source": [
    "df.to_file(out_test_dir/'test_dataframe')"
   ]
  },
  {
   "cell_type": "markdown",
   "metadata": {},
   "source": [
    "# Final Composition"
   ]
  },
  {
   "cell_type": "code",
   "execution_count": 69,
   "metadata": {},
   "outputs": [],
   "source": [
    "def composed_filtering(df, nasadem_path):\n",
    "    df = append_egm96_data(df)\n",
    "    df = append_nasadem_data(df, nasadem_path)\n",
    "    df = append_peckel_occurrence_data(df)\n",
    "    df = append_buffered_glims(df, nasadem_path)\n",
    "    return df\n",
    "\n",
    "def get_filtered_gedi_data(tile_entry):\n",
    "    df = get_all_gedi_data_for_tile(tile_entry)\n",
    "    nasadem_path = str(tile_entry['nasadem_tile_path'])\n",
    "    df = composed_filtering(df, nasadem_path)\n",
    "    return df"
   ]
  },
  {
   "cell_type": "code",
   "execution_count": 70,
   "metadata": {},
   "outputs": [
    {
     "data": {
      "text/plain": [
       "{'nasadem_tile_name': 'n00e009',\n",
       " 'raw_gedi_data_path': [PosixPath('/mnt/phh-r0c/users/cmarshak/gedi_orbits_raw/Africa/n00e009__GEDI02_A_2019111040155_O02008_T04616_02_001_01.geojson.gzip'),\n",
       "  PosixPath('/mnt/phh-r0c/users/cmarshak/gedi_orbits_raw/Africa/n00e009__GEDI02_A_2019118011926_O02115_T02887_02_001_01.geojson.gzip'),\n",
       "  PosixPath('/mnt/phh-r0c/users/cmarshak/gedi_orbits_raw/Africa/n00e009__GEDI02_A_2019146011955_O02550_T02940_02_001_01.geojson.gzip'),\n",
       "  PosixPath('/mnt/phh-r0c/users/cmarshak/gedi_orbits_raw/Africa/n00e009__GEDI02_A_2019164065420_O02833_T03499_02_001_01.geojson.gzip'),\n",
       "  PosixPath('/mnt/phh-r0c/users/cmarshak/gedi_orbits_raw/Africa/n00e009__GEDI02_A_2019124223647_O02222_T05580_02_001_01.geojson.gzip'),\n",
       "  PosixPath('/mnt/phh-r0c/users/cmarshak/gedi_orbits_raw/Africa/n00e009__GEDI02_A_2019197050212_O03344_T01670_02_001_01.geojson.gzip'),\n",
       "  PosixPath('/mnt/phh-r0c/users/cmarshak/gedi_orbits_raw/Africa/n00e009__GEDI02_A_2019156210541_O02718_T01058_02_001_01.geojson.gzip'),\n",
       "  PosixPath('/mnt/phh-r0c/users/cmarshak/gedi_orbits_raw/Africa/n00e009__GEDI02_A_2019185222503_O03169_T02734_02_001_01.geojson.gzip'),\n",
       "  PosixPath('/mnt/phh-r0c/users/cmarshak/gedi_orbits_raw/Africa/n00e009__GEDI02_A_2019171151005_O02947_T01823_02_001_01.geojson.gzip'),\n",
       "  PosixPath('/mnt/phh-r0c/users/cmarshak/gedi_orbits_raw/Africa/n00e009__GEDI02_A_2019215103928_O03627_T00347_02_001_01.geojson.gzip'),\n",
       "  PosixPath('/mnt/phh-r0c/users/cmarshak/gedi_orbits_raw/Africa/n00e009__GEDI02_A_2019200163229_O03398_T04310_02_001_01.geojson.gzip'),\n",
       "  PosixPath('/mnt/phh-r0c/users/cmarshak/gedi_orbits_raw/Africa/n00e009__GEDI02_A_2019182105506_O03115_T05633_02_001_01.geojson.gzip'),\n",
       "  PosixPath('/mnt/phh-r0c/users/cmarshak/gedi_orbits_raw/Africa/n00e009__GEDI02_A_2019175023936_O03001_T03040_02_001_01.geojson.gzip'),\n",
       "  PosixPath('/mnt/phh-r0c/users/cmarshak/gedi_orbits_raw/Africa/n00e009__GEDI02_A_2019149124939_O02604_T00041_02_001_02.geojson.gzip')],\n",
       " 'nasadem_tile_path': PosixPath('/mnt/phh-r0b/nasadem/daac/Africa/hgt_merge/n00e009.hgt.zip'),\n",
       " 'continent': 'Africa',\n",
       " 'bounds': (9.0, -0.0002777777777778212, 10.000277777777779, 1.0)}"
      ]
     },
     "execution_count": 70,
     "metadata": {},
     "output_type": "execute_result"
    }
   ],
   "source": [
    "tile_records[1]"
   ]
  },
  {
   "cell_type": "code",
   "execution_count": 73,
   "metadata": {},
   "outputs": [
    {
     "name": "stderr",
     "output_type": "stream",
     "text": [
      "  0%|          | 0/18 [00:00<?, ?it/s]/mnt/phh-r0c/users/cmarshak/anaconda3/envs/gis/lib/python3.7/site-packages/pyproj/crs.py:77: FutureWarning: '+init=<authority>:<code>' syntax is deprecated. '<authority>:<code>' is the preferred initialization method.\n",
      "  return _prepare_from_string(\" \".join(pjargs))\n",
      "100%|██████████| 18/18 [00:11<00:00,  1.63it/s]\n"
     ]
    },
    {
     "data": {
      "text/html": [
       "<div>\n",
       "<style scoped>\n",
       "    .dataframe tbody tr th:only-of-type {\n",
       "        vertical-align: middle;\n",
       "    }\n",
       "\n",
       "    .dataframe tbody tr th {\n",
       "        vertical-align: top;\n",
       "    }\n",
       "\n",
       "    .dataframe thead th {\n",
       "        text-align: right;\n",
       "    }\n",
       "</style>\n",
       "<table border=\"1\" class=\"dataframe\">\n",
       "  <thead>\n",
       "    <tr style=\"text-align: right;\">\n",
       "      <th></th>\n",
       "      <th>geometry</th>\n",
       "      <th>beam</th>\n",
       "      <th>channel</th>\n",
       "      <th>degrade_flag</th>\n",
       "      <th>delta_time</th>\n",
       "      <th>digital_elevation_model</th>\n",
       "      <th>elev_highestreturn</th>\n",
       "      <th>elev_lowestmode</th>\n",
       "      <th>elevation_bias_flag</th>\n",
       "      <th>elevation_bin0_error</th>\n",
       "      <th>...</th>\n",
       "      <th>modis_nonvegetated</th>\n",
       "      <th>modis_nonvegetated_sd</th>\n",
       "      <th>modis_treecover</th>\n",
       "      <th>modis_treecover_sd</th>\n",
       "      <th>orbit_name</th>\n",
       "      <th>egm_96</th>\n",
       "      <th>nasadem</th>\n",
       "      <th>nasadem_slope_degrees</th>\n",
       "      <th>peckel_occurrence</th>\n",
       "      <th>glim_buffered</th>\n",
       "    </tr>\n",
       "  </thead>\n",
       "  <tbody>\n",
       "    <tr>\n",
       "      <th>0</th>\n",
       "      <td>POINT (11.99683 0.99958)</td>\n",
       "      <td>5</td>\n",
       "      <td>2</td>\n",
       "      <td>0</td>\n",
       "      <td>4.109757e+07</td>\n",
       "      <td>540.140137</td>\n",
       "      <td>557.554504</td>\n",
       "      <td>544.032715</td>\n",
       "      <td>0</td>\n",
       "      <td>0.310530</td>\n",
       "      <td>...</td>\n",
       "      <td>16.0</td>\n",
       "      <td>13.58</td>\n",
       "      <td>57.0</td>\n",
       "      <td>13.58</td>\n",
       "      <td>GEDI02_A_2019111145043_O02015_T00201_02_001_01.h5</td>\n",
       "      <td>9.161</td>\n",
       "      <td>517</td>\n",
       "      <td>0.942134</td>\n",
       "      <td>0</td>\n",
       "      <td>0</td>\n",
       "    </tr>\n",
       "    <tr>\n",
       "      <th>1</th>\n",
       "      <td>POINT (11.99713 0.99916)</td>\n",
       "      <td>5</td>\n",
       "      <td>2</td>\n",
       "      <td>0</td>\n",
       "      <td>4.109757e+07</td>\n",
       "      <td>532.874329</td>\n",
       "      <td>550.319397</td>\n",
       "      <td>519.680115</td>\n",
       "      <td>0</td>\n",
       "      <td>0.310533</td>\n",
       "      <td>...</td>\n",
       "      <td>16.0</td>\n",
       "      <td>13.58</td>\n",
       "      <td>57.0</td>\n",
       "      <td>13.58</td>\n",
       "      <td>GEDI02_A_2019111145043_O02015_T00201_02_001_01.h5</td>\n",
       "      <td>9.161</td>\n",
       "      <td>513</td>\n",
       "      <td>3.375906</td>\n",
       "      <td>0</td>\n",
       "      <td>0</td>\n",
       "    </tr>\n",
       "    <tr>\n",
       "      <th>2</th>\n",
       "      <td>POINT (11.99743 0.99873)</td>\n",
       "      <td>5</td>\n",
       "      <td>2</td>\n",
       "      <td>0</td>\n",
       "      <td>4.109757e+07</td>\n",
       "      <td>531.667908</td>\n",
       "      <td>548.201538</td>\n",
       "      <td>518.236450</td>\n",
       "      <td>0</td>\n",
       "      <td>0.310534</td>\n",
       "      <td>...</td>\n",
       "      <td>16.0</td>\n",
       "      <td>13.58</td>\n",
       "      <td>57.0</td>\n",
       "      <td>13.58</td>\n",
       "      <td>GEDI02_A_2019111145043_O02015_T00201_02_001_01.h5</td>\n",
       "      <td>9.161</td>\n",
       "      <td>512</td>\n",
       "      <td>1.321156</td>\n",
       "      <td>0</td>\n",
       "      <td>0</td>\n",
       "    </tr>\n",
       "    <tr>\n",
       "      <th>3</th>\n",
       "      <td>POINT (11.99773 0.99831)</td>\n",
       "      <td>5</td>\n",
       "      <td>2</td>\n",
       "      <td>0</td>\n",
       "      <td>4.109757e+07</td>\n",
       "      <td>531.667908</td>\n",
       "      <td>542.038269</td>\n",
       "      <td>514.020935</td>\n",
       "      <td>0</td>\n",
       "      <td>0.310536</td>\n",
       "      <td>...</td>\n",
       "      <td>14.0</td>\n",
       "      <td>12.84</td>\n",
       "      <td>58.0</td>\n",
       "      <td>12.84</td>\n",
       "      <td>GEDI02_A_2019111145043_O02015_T00201_02_001_01.h5</td>\n",
       "      <td>9.161</td>\n",
       "      <td>513</td>\n",
       "      <td>3.957862</td>\n",
       "      <td>0</td>\n",
       "      <td>0</td>\n",
       "    </tr>\n",
       "    <tr>\n",
       "      <th>4</th>\n",
       "      <td>POINT (11.99802 0.99789)</td>\n",
       "      <td>5</td>\n",
       "      <td>2</td>\n",
       "      <td>0</td>\n",
       "      <td>4.109757e+07</td>\n",
       "      <td>527.911133</td>\n",
       "      <td>548.071899</td>\n",
       "      <td>543.165161</td>\n",
       "      <td>0</td>\n",
       "      <td>0.310536</td>\n",
       "      <td>...</td>\n",
       "      <td>15.0</td>\n",
       "      <td>12.23</td>\n",
       "      <td>58.0</td>\n",
       "      <td>12.23</td>\n",
       "      <td>GEDI02_A_2019111145043_O02015_T00201_02_001_01.h5</td>\n",
       "      <td>9.161</td>\n",
       "      <td>518</td>\n",
       "      <td>2.077779</td>\n",
       "      <td>0</td>\n",
       "      <td>0</td>\n",
       "    </tr>\n",
       "  </tbody>\n",
       "</table>\n",
       "<p>5 rows × 46 columns</p>\n",
       "</div>"
      ],
      "text/plain": [
       "                   geometry  beam  channel  degrade_flag    delta_time  \\\n",
       "0  POINT (11.99683 0.99958)     5        2             0  4.109757e+07   \n",
       "1  POINT (11.99713 0.99916)     5        2             0  4.109757e+07   \n",
       "2  POINT (11.99743 0.99873)     5        2             0  4.109757e+07   \n",
       "3  POINT (11.99773 0.99831)     5        2             0  4.109757e+07   \n",
       "4  POINT (11.99802 0.99789)     5        2             0  4.109757e+07   \n",
       "\n",
       "   digital_elevation_model  elev_highestreturn  elev_lowestmode  \\\n",
       "0               540.140137          557.554504       544.032715   \n",
       "1               532.874329          550.319397       519.680115   \n",
       "2               531.667908          548.201538       518.236450   \n",
       "3               531.667908          542.038269       514.020935   \n",
       "4               527.911133          548.071899       543.165161   \n",
       "\n",
       "   elevation_bias_flag  elevation_bin0_error  ...  modis_nonvegetated  \\\n",
       "0                    0              0.310530  ...                16.0   \n",
       "1                    0              0.310533  ...                16.0   \n",
       "2                    0              0.310534  ...                16.0   \n",
       "3                    0              0.310536  ...                14.0   \n",
       "4                    0              0.310536  ...                15.0   \n",
       "\n",
       "   modis_nonvegetated_sd  modis_treecover  modis_treecover_sd  \\\n",
       "0                  13.58             57.0               13.58   \n",
       "1                  13.58             57.0               13.58   \n",
       "2                  13.58             57.0               13.58   \n",
       "3                  12.84             58.0               12.84   \n",
       "4                  12.23             58.0               12.23   \n",
       "\n",
       "                                          orbit_name  egm_96  nasadem  \\\n",
       "0  GEDI02_A_2019111145043_O02015_T00201_02_001_01.h5   9.161      517   \n",
       "1  GEDI02_A_2019111145043_O02015_T00201_02_001_01.h5   9.161      513   \n",
       "2  GEDI02_A_2019111145043_O02015_T00201_02_001_01.h5   9.161      512   \n",
       "3  GEDI02_A_2019111145043_O02015_T00201_02_001_01.h5   9.161      513   \n",
       "4  GEDI02_A_2019111145043_O02015_T00201_02_001_01.h5   9.161      518   \n",
       "\n",
       "   nasadem_slope_degrees  peckel_occurrence  glim_buffered  \n",
       "0               0.942134                  0              0  \n",
       "1               3.375906                  0              0  \n",
       "2               1.321156                  0              0  \n",
       "3               3.957862                  0              0  \n",
       "4               2.077779                  0              0  \n",
       "\n",
       "[5 rows x 46 columns]"
      ]
     },
     "execution_count": 73,
     "metadata": {},
     "output_type": "execute_result"
    }
   ],
   "source": [
    "df = get_filtered_gedi_data(tile_records[3])\n",
    "df.head()"
   ]
  },
  {
   "cell_type": "code",
   "execution_count": null,
   "metadata": {},
   "outputs": [],
   "source": [
    "def write_nasadem_gedi_tile(tile_entry):\n",
    "    df = get_filtered_gedi_data(tile_entry)\n",
    "    tile_name = tile_entry['nasadem_tile_name']\n",
    "    continent = tile_entry['continent']\n",
    "    \n",
    "    dest_dir = GEDI_AGG_DIR/continent\n",
    "    dest_dir.mkdir(exist_ok=True, parents=True)\n",
    "    dest_path = dest_dir/f'{tile_name}.geojson.gzip'\n",
    "    \n",
    "    to_geojson_gzip(df, dest_path)\n",
    "    tile_entry['dest_path'] = dest_path\n",
    "    return tile_entry"
   ]
  },
  {
   "cell_type": "code",
   "execution_count": null,
   "metadata": {},
   "outputs": [],
   "source": [
    "write_nasadem_gedi_tile(tile_records[1])"
   ]
  },
  {
   "cell_type": "code",
   "execution_count": null,
   "metadata": {},
   "outputs": [],
   "source": [
    "NPROC = 20\n",
    "with mp.Pool(NPROC) as p:\n",
    "    new_records = p.map(write_nasadem_gedi_tile, tqdm(tile_records))\n"
   ]
  },
  {
   "cell_type": "code",
   "execution_count": null,
   "metadata": {},
   "outputs": [],
   "source": [
    "df.geometry, \n",
    "                                                        window_extent, \n",
    "                                                        PECKEL_OCCURENCE_PATH"
   ]
  },
  {
   "cell_type": "code",
   "execution_count": null,
   "metadata": {},
   "outputs": [],
   "source": []
  }
 ],
 "metadata": {
  "kernelspec": {
   "display_name": "gis",
   "language": "python",
   "name": "gis"
  },
  "language_info": {
   "codemirror_mode": {
    "name": "ipython",
    "version": 3
   },
   "file_extension": ".py",
   "mimetype": "text/x-python",
   "name": "python",
   "nbconvert_exporter": "python",
   "pygments_lexer": "ipython3",
   "version": "3.7.7"
  }
 },
 "nbformat": 4,
 "nbformat_minor": 4
}
